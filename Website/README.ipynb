{
 "cells": [
  {
   "cell_type": "markdown",
   "metadata": {},
   "source": [
    "# Cointracker \n",
    "### Made by: Vincent Kleiman (11884622), Thimo Janssen (11569166), Gregory Slager (11432853)\n",
    "                "
   ]
  },
  {
   "cell_type": "markdown",
   "metadata": {},
   "source": [
    "![foto](docs/cointracker.png)"
   ]
  },
  {
   "cell_type": "markdown",
   "metadata": {},
   "source": [
    "## Features Cointracker offers\n",
    "\n",
    "- Cryptocurrency tracker\n",
    "\n",
    "Cointracker keeps track of the top 100 cryptocurrencies based on marketcap. On the main page the user will find a sorted list with: the name of the cryptocurrency, the current price, the market cap, the 1 hour change, the 24 hour change and the 7 day change of the coins worth. \n",
    "\n",
    "- Personal favorites & vote buttons\n",
    "\n",
    "Registered users are able to create their own personal watchlist. When logged in the user will find 3 new buttons have appeard: an \"add\" button, an \"up\" button and a \"down\" button respectively. These buttons act accordingly to their name. The add button adds the selected coin to the users list of favorite coins. The up-button upvotes the coin. The down-button downvotes the coin. The use of these last two coins will be explained in the \"social\" paragraph. \n",
    "\n",
    "- Practiceground for wannabe investors\n",
    "\n",
    "Cointracker offers a practiceground for wannabe investers. Upon registration the user will receive USD 1000 (simulated) to fictively by and sell assets in order to practice investing before using real money. When buying cryptocurrency, the user will be able to keep track of the currency they own through their portfolio.\n",
    "\n",
    "- Social \n",
    "\n",
    "To add a social aspect to the website, cointrackers uses an up- and downvote system. Through up and downvoting coins users are able to indirecly communicate to the community. On the personal dashboard the user will find an overview of the most upvoted and downvoted coins of the day. This can help the user in deciding which coins are worth researching."
   ]
  },
  {
   "cell_type": "markdown",
   "metadata": {},
   "source": [
    "## Noteworthy items\n",
    "\n",
    "- The sites uses a live database, which updates every 5 minutes by default.\n",
    "- The text format on index depends on the number it represents (red, green)\n",
    "- Fully custom designed logo\n",
    "- The searchbar is case and whitespace insensitive"
   ]
  },
  {
   "cell_type": "markdown",
   "metadata": {},
   "source": [
    "## Cointracker development process\n",
    "\n",
    "The develompent consist of the 3 UvA students listed in the subtitle of this readme. Each of the teammembers had their own specialty; Vincent was the main html/css developer; Thimo was the main GIT engineer as well as the python supervisor; Gregory was the main SQL engineer. Apart from those tasks each member contributed to application.py. "
   ]
  },
  {
   "cell_type": "markdown",
   "metadata": {},
   "source": [
    "## Cointracker GIT repository\n",
    "\n",
    "The repository can be found here: https://github.com/W1zzardo/Coin-Tracker.git.\n",
    "The main folder \"Website\" consists of 2 subfolders, 2 python files and 1 database file. \n",
    "\n",
    "The CSS can be found in subfolder \"static\". \n",
    "\n",
    "In \"templates\" subfolder you will find all templates refered to in application.py. \n",
    "\n",
    "Application.py is the controler of the site.\n",
    "All functions for all pages can be found in this file. \n",
    "\n",
    "Helpers.py cointains the most used functions such as search functions (in order to keep application.py as clean as possible).\n",
    "\n",
    "Finally \"finance.db\" is the websites database. All stored data can be found here. \n"
   ]
  }
 ],
 "metadata": {
  "kernelspec": {
   "display_name": "Python 2",
   "language": "python",
   "name": "python2"
  },
  "language_info": {
   "codemirror_mode": {
    "name": "ipython",
    "version": 2
   },
   "file_extension": ".py",
   "mimetype": "text/x-python",
   "name": "python",
   "nbconvert_exporter": "python",
   "pygments_lexer": "ipython2",
   "version": "2.7.13"
  }
 },
 "nbformat": 4,
 "nbformat_minor": 2
}
